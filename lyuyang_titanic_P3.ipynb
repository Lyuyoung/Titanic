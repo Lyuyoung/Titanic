{
 "cells": [
  {
   "cell_type": "markdown",
   "metadata": {},
   "source": [
    "# 基于Titanic原始乘客数据的生还因素分析"
   ]
  },
  {
   "cell_type": "markdown",
   "metadata": {},
   "source": [
    "## 1. 数据介绍\n",
    "\n",
    "\n",
    "survival（存活）\t                            0 = No, 1 = Yes\n",
    "\n",
    "pclass：Ticket class（舱位级别）                         1 = 1st, 2 = 2nd, 3 = 3rd\n",
    "\n",
    "sex（性别）\t\n",
    "\n",
    "Age：Age in years（年岁）\t\n",
    "\n",
    "sibsp：# of siblings / spouses aboard the Titanic（配偶）\n",
    "\n",
    "parch：# of parents / children aboard the Titanic（直系亲属）\t\n",
    "\n",
    "ticket：Ticket number（票号）\t\n",
    "\n",
    "fare：Passenger fare（费用）\t\n",
    "\n",
    "cabin：Cabin number（客舱号）\t\n",
    "\n",
    "embarked：Port of Embarkation（登船口岸）\t               C = Cherbourg, Q = Queenstown, S = Southampton"
   ]
  },
  {
   "cell_type": "markdown",
   "metadata": {},
   "source": [
    "## 2. 数据整理与初勘"
   ]
  },
  {
   "cell_type": "code",
   "execution_count": 1,
   "metadata": {
    "collapsed": false
   },
   "outputs": [],
   "source": [
    "# 读取数据 \n",
    "import pandas as pd\n",
    "import numpy as np\n",
    "\n",
    "titanic=pd.read_csv('titanic-data.csv')"
   ]
  },
  {
   "cell_type": "code",
   "execution_count": 2,
   "metadata": {
    "collapsed": false
   },
   "outputs": [
    {
     "data": {
      "text/html": [
       "<div>\n",
       "<table border=\"1\" class=\"dataframe\">\n",
       "  <thead>\n",
       "    <tr style=\"text-align: right;\">\n",
       "      <th></th>\n",
       "      <th>PassengerId</th>\n",
       "      <th>Survived</th>\n",
       "      <th>Pclass</th>\n",
       "      <th>Age</th>\n",
       "      <th>SibSp</th>\n",
       "      <th>Parch</th>\n",
       "      <th>Fare</th>\n",
       "    </tr>\n",
       "  </thead>\n",
       "  <tbody>\n",
       "    <tr>\n",
       "      <th>count</th>\n",
       "      <td>891.000000</td>\n",
       "      <td>891.000000</td>\n",
       "      <td>891.000000</td>\n",
       "      <td>714.000000</td>\n",
       "      <td>891.000000</td>\n",
       "      <td>891.000000</td>\n",
       "      <td>891.000000</td>\n",
       "    </tr>\n",
       "    <tr>\n",
       "      <th>mean</th>\n",
       "      <td>446.000000</td>\n",
       "      <td>0.383838</td>\n",
       "      <td>2.308642</td>\n",
       "      <td>29.699118</td>\n",
       "      <td>0.523008</td>\n",
       "      <td>0.381594</td>\n",
       "      <td>32.204208</td>\n",
       "    </tr>\n",
       "    <tr>\n",
       "      <th>std</th>\n",
       "      <td>257.353842</td>\n",
       "      <td>0.486592</td>\n",
       "      <td>0.836071</td>\n",
       "      <td>14.526497</td>\n",
       "      <td>1.102743</td>\n",
       "      <td>0.806057</td>\n",
       "      <td>49.693429</td>\n",
       "    </tr>\n",
       "    <tr>\n",
       "      <th>min</th>\n",
       "      <td>1.000000</td>\n",
       "      <td>0.000000</td>\n",
       "      <td>1.000000</td>\n",
       "      <td>0.420000</td>\n",
       "      <td>0.000000</td>\n",
       "      <td>0.000000</td>\n",
       "      <td>0.000000</td>\n",
       "    </tr>\n",
       "    <tr>\n",
       "      <th>25%</th>\n",
       "      <td>223.500000</td>\n",
       "      <td>0.000000</td>\n",
       "      <td>2.000000</td>\n",
       "      <td>20.125000</td>\n",
       "      <td>0.000000</td>\n",
       "      <td>0.000000</td>\n",
       "      <td>7.910400</td>\n",
       "    </tr>\n",
       "    <tr>\n",
       "      <th>50%</th>\n",
       "      <td>446.000000</td>\n",
       "      <td>0.000000</td>\n",
       "      <td>3.000000</td>\n",
       "      <td>28.000000</td>\n",
       "      <td>0.000000</td>\n",
       "      <td>0.000000</td>\n",
       "      <td>14.454200</td>\n",
       "    </tr>\n",
       "    <tr>\n",
       "      <th>75%</th>\n",
       "      <td>668.500000</td>\n",
       "      <td>1.000000</td>\n",
       "      <td>3.000000</td>\n",
       "      <td>38.000000</td>\n",
       "      <td>1.000000</td>\n",
       "      <td>0.000000</td>\n",
       "      <td>31.000000</td>\n",
       "    </tr>\n",
       "    <tr>\n",
       "      <th>max</th>\n",
       "      <td>891.000000</td>\n",
       "      <td>1.000000</td>\n",
       "      <td>3.000000</td>\n",
       "      <td>80.000000</td>\n",
       "      <td>8.000000</td>\n",
       "      <td>6.000000</td>\n",
       "      <td>512.329200</td>\n",
       "    </tr>\n",
       "  </tbody>\n",
       "</table>\n",
       "</div>"
      ],
      "text/plain": [
       "       PassengerId    Survived      Pclass         Age       SibSp  \\\n",
       "count   891.000000  891.000000  891.000000  714.000000  891.000000   \n",
       "mean    446.000000    0.383838    2.308642   29.699118    0.523008   \n",
       "std     257.353842    0.486592    0.836071   14.526497    1.102743   \n",
       "min       1.000000    0.000000    1.000000    0.420000    0.000000   \n",
       "25%     223.500000    0.000000    2.000000   20.125000    0.000000   \n",
       "50%     446.000000    0.000000    3.000000   28.000000    0.000000   \n",
       "75%     668.500000    1.000000    3.000000   38.000000    1.000000   \n",
       "max     891.000000    1.000000    3.000000   80.000000    8.000000   \n",
       "\n",
       "            Parch        Fare  \n",
       "count  891.000000  891.000000  \n",
       "mean     0.381594   32.204208  \n",
       "std      0.806057   49.693429  \n",
       "min      0.000000    0.000000  \n",
       "25%      0.000000    7.910400  \n",
       "50%      0.000000   14.454200  \n",
       "75%      0.000000   31.000000  \n",
       "max      6.000000  512.329200  "
      ]
     },
     "execution_count": 2,
     "metadata": {},
     "output_type": "execute_result"
    }
   ],
   "source": [
    "# 描述统计量 \n",
    "titanic.describe()"
   ]
  },
  {
   "cell_type": "markdown",
   "metadata": {},
   "source": [
    "基础描述统计分析发现：\n",
    "1、船上共有891名乘客。\n",
    "2、有38%的乘客存活。\n",
    "3、所有乘客平均年龄29-30岁。"
   ]
  },
  {
   "cell_type": "code",
   "execution_count": 3,
   "metadata": {
    "collapsed": false
   },
   "outputs": [
    {
     "data": {
      "text/html": [
       "<div>\n",
       "<table border=\"1\" class=\"dataframe\">\n",
       "  <thead>\n",
       "    <tr style=\"text-align: right;\">\n",
       "      <th></th>\n",
       "      <th>PassengerId</th>\n",
       "      <th>Survived</th>\n",
       "      <th>Pclass</th>\n",
       "      <th>Name</th>\n",
       "      <th>Sex</th>\n",
       "      <th>Age</th>\n",
       "      <th>SibSp</th>\n",
       "      <th>Parch</th>\n",
       "      <th>Ticket</th>\n",
       "      <th>Fare</th>\n",
       "      <th>Cabin</th>\n",
       "      <th>Embarked</th>\n",
       "    </tr>\n",
       "  </thead>\n",
       "  <tbody>\n",
       "    <tr>\n",
       "      <th>0</th>\n",
       "      <td>1</td>\n",
       "      <td>0</td>\n",
       "      <td>3</td>\n",
       "      <td>Braund, Mr. Owen Harris</td>\n",
       "      <td>male</td>\n",
       "      <td>22.0</td>\n",
       "      <td>1</td>\n",
       "      <td>0</td>\n",
       "      <td>A/5 21171</td>\n",
       "      <td>7.2500</td>\n",
       "      <td>NaN</td>\n",
       "      <td>S</td>\n",
       "    </tr>\n",
       "    <tr>\n",
       "      <th>1</th>\n",
       "      <td>2</td>\n",
       "      <td>1</td>\n",
       "      <td>1</td>\n",
       "      <td>Cumings, Mrs. John Bradley (Florence Briggs Th...</td>\n",
       "      <td>female</td>\n",
       "      <td>38.0</td>\n",
       "      <td>1</td>\n",
       "      <td>0</td>\n",
       "      <td>PC 17599</td>\n",
       "      <td>71.2833</td>\n",
       "      <td>C85</td>\n",
       "      <td>C</td>\n",
       "    </tr>\n",
       "    <tr>\n",
       "      <th>2</th>\n",
       "      <td>3</td>\n",
       "      <td>1</td>\n",
       "      <td>3</td>\n",
       "      <td>Heikkinen, Miss. Laina</td>\n",
       "      <td>female</td>\n",
       "      <td>26.0</td>\n",
       "      <td>0</td>\n",
       "      <td>0</td>\n",
       "      <td>STON/O2. 3101282</td>\n",
       "      <td>7.9250</td>\n",
       "      <td>NaN</td>\n",
       "      <td>S</td>\n",
       "    </tr>\n",
       "    <tr>\n",
       "      <th>3</th>\n",
       "      <td>4</td>\n",
       "      <td>1</td>\n",
       "      <td>1</td>\n",
       "      <td>Futrelle, Mrs. Jacques Heath (Lily May Peel)</td>\n",
       "      <td>female</td>\n",
       "      <td>35.0</td>\n",
       "      <td>1</td>\n",
       "      <td>0</td>\n",
       "      <td>113803</td>\n",
       "      <td>53.1000</td>\n",
       "      <td>C123</td>\n",
       "      <td>S</td>\n",
       "    </tr>\n",
       "    <tr>\n",
       "      <th>4</th>\n",
       "      <td>5</td>\n",
       "      <td>0</td>\n",
       "      <td>3</td>\n",
       "      <td>Allen, Mr. William Henry</td>\n",
       "      <td>male</td>\n",
       "      <td>35.0</td>\n",
       "      <td>0</td>\n",
       "      <td>0</td>\n",
       "      <td>373450</td>\n",
       "      <td>8.0500</td>\n",
       "      <td>NaN</td>\n",
       "      <td>S</td>\n",
       "    </tr>\n",
       "  </tbody>\n",
       "</table>\n",
       "</div>"
      ],
      "text/plain": [
       "   PassengerId  Survived  Pclass  \\\n",
       "0            1         0       3   \n",
       "1            2         1       1   \n",
       "2            3         1       3   \n",
       "3            4         1       1   \n",
       "4            5         0       3   \n",
       "\n",
       "                                                Name     Sex   Age  SibSp  \\\n",
       "0                            Braund, Mr. Owen Harris    male  22.0      1   \n",
       "1  Cumings, Mrs. John Bradley (Florence Briggs Th...  female  38.0      1   \n",
       "2                             Heikkinen, Miss. Laina  female  26.0      0   \n",
       "3       Futrelle, Mrs. Jacques Heath (Lily May Peel)  female  35.0      1   \n",
       "4                           Allen, Mr. William Henry    male  35.0      0   \n",
       "\n",
       "   Parch            Ticket     Fare Cabin Embarked  \n",
       "0      0         A/5 21171   7.2500   NaN        S  \n",
       "1      0          PC 17599  71.2833   C85        C  \n",
       "2      0  STON/O2. 3101282   7.9250   NaN        S  \n",
       "3      0            113803  53.1000  C123        S  \n",
       "4      0            373450   8.0500   NaN        S  "
      ]
     },
     "execution_count": 3,
     "metadata": {},
     "output_type": "execute_result"
    }
   ],
   "source": [
    "# 检测前排数据 \n",
    "titanic.head()"
   ]
  },
  {
   "cell_type": "code",
   "execution_count": 4,
   "metadata": {
    "collapsed": false
   },
   "outputs": [
    {
     "name": "stdout",
     "output_type": "stream",
     "text": [
      "<class 'pandas.core.frame.DataFrame'>\n",
      "Int64Index: 891 entries, 1 to 891\n",
      "Data columns (total 11 columns):\n",
      "Survived    891 non-null int64\n",
      "Pclass      891 non-null int64\n",
      "Name        891 non-null object\n",
      "Sex         891 non-null object\n",
      "Age         714 non-null float64\n",
      "SibSp       891 non-null int64\n",
      "Parch       891 non-null int64\n",
      "Ticket      891 non-null object\n",
      "Fare        891 non-null float64\n",
      "Cabin       204 non-null object\n",
      "Embarked    889 non-null object\n",
      "dtypes: float64(2), int64(4), object(5)\n",
      "memory usage: 83.5+ KB\n"
     ]
    }
   ],
   "source": [
    "# 设置PassengerId为索引\n",
    "tt=titanic.set_index(['PassengerId'])\n",
    "tt.info()"
   ]
  },
  {
   "cell_type": "markdown",
   "metadata": {},
   "source": [
    "发现年龄、客舱号、登船口三数据均存在缺失值。"
   ]
  },
  {
   "cell_type": "code",
   "execution_count": 5,
   "metadata": {
    "collapsed": false
   },
   "outputs": [
    {
     "name": "stdout",
     "output_type": "stream",
     "text": [
      "<class 'pandas.core.frame.DataFrame'>\n",
      "Int64Index: 342 entries, 2 to 890\n",
      "Data columns (total 11 columns):\n",
      "Survived    342 non-null int64\n",
      "Pclass      342 non-null int64\n",
      "Name        342 non-null object\n",
      "Sex         342 non-null object\n",
      "Age         290 non-null float64\n",
      "SibSp       342 non-null int64\n",
      "Parch       342 non-null int64\n",
      "Ticket      342 non-null object\n",
      "Fare        342 non-null float64\n",
      "Cabin       136 non-null object\n",
      "Embarked    340 non-null object\n",
      "dtypes: float64(2), int64(4), object(5)\n",
      "memory usage: 32.1+ KB\n"
     ]
    }
   ],
   "source": [
    "# 获取生还者数据 \n",
    "tt_Survived = tt[tt.Survived==1]\n",
    "tt_Survived.info()"
   ]
  },
  {
   "cell_type": "markdown",
   "metadata": {},
   "source": [
    "排除点未生还者数据后，发现有342名生还者，但部分年龄、客舱号、登船口三类数据存在缺失值。"
   ]
  },
  {
   "cell_type": "code",
   "execution_count": 6,
   "metadata": {
    "collapsed": false
   },
   "outputs": [
    {
     "name": "stdout",
     "output_type": "stream",
     "text": [
      "Populating the interactive namespace from numpy and matplotlib\n"
     ]
    }
   ],
   "source": [
    "# 常用函数定义 \n",
    "# 输出描述性统计分析\n",
    "%pylab inline\n",
    "\n",
    "import matplotlib.pyplot as plt\n",
    "import seaborn as sns\n",
    "\n",
    "def print_describe(data,label):\n",
    "    print label\n",
    "    print '平均值: ',np.mean(data)\n",
    "    print '标准差: ',np.std(data)\n",
    "    print '最小值: ',np.min(data)\n",
    "    print '最大值: ',np.max(data)\n",
    "    plt.hist(data)\n",
    "    "
   ]
  },
  {
   "cell_type": "markdown",
   "metadata": {},
   "source": [
    "## 3. 数据分析"
   ]
  },
  {
   "cell_type": "markdown",
   "metadata": {},
   "source": [
    "### 问题1：性别因素是否对生还造成影响？"
   ]
  },
  {
   "cell_type": "code",
   "execution_count": 7,
   "metadata": {
    "collapsed": false
   },
   "outputs": [
    {
     "name": "stdout",
     "output_type": "stream",
     "text": [
      "Sex\n",
      "female    314\n",
      "male      577\n",
      "Name: Name, dtype: int64\n",
      "Sex\n",
      "female    233\n",
      "male      109\n",
      "Name: Name, dtype: int64\n"
     ]
    }
   ],
   "source": [
    "# 计数\n",
    "def titanic_life(data,name):\n",
    "    return data.groupby(name)['Name'].count()\n",
    "\n",
    "print titanic_life(tt,'Sex')\n",
    "print titanic_life(tt_Survived,'Sex')\n"
   ]
  },
  {
   "cell_type": "code",
   "execution_count": 8,
   "metadata": {
    "collapsed": false
   },
   "outputs": [
    {
     "data": {
      "image/png": "[encoded data removed]",
      "text/plain": [
       "<matplotlib.figure.Figure at 0x87106a0>"
      ]
     },
     "metadata": {},
     "output_type": "display_data"
    }
   ],
   "source": [
    "# 绘制条形图（性别对生还的影响）\n",
    "def print_bar(data):\n",
    "    plt.xticks((0,0.2),(u'female',u'male'))\n",
    "    plt.bar(left=(0,0.2),height=data,width=0.12,align=\"center\")\n",
    "\n",
    "print_bar(titanic_life(tt,'Sex'))\n",
    "print_bar(titanic_life(tt_Survived,'Sex'))"
   ]
  },
  {
   "cell_type": "code",
   "execution_count": 9,
   "metadata": {
    "collapsed": false
   },
   "outputs": [
    {
     "data": {
      "image/png": "[encoded data removed]",
      "text/plain": [
       "<matplotlib.figure.Figure at 0x8710080>"
      ]
     },
     "metadata": {},
     "output_type": "display_data"
    }
   ],
   "source": [
    "# 绘制饼图（全部乘客）\n",
    "def print_pie(data):\n",
    "    data.plot.pie(figsize=(6, 6),autopct='%3.1f%%',startangle = 90,shadow=True)\n",
    "\n",
    "print_pie(titanic_life(tt,'Sex'))"
   ]
  },
  {
   "cell_type": "code",
   "execution_count": 10,
   "metadata": {
    "collapsed": false
   },
   "outputs": [
    {
     "data": {
      "image/png": "[encoded data removed]",
      "text/plain": [
       "<matplotlib.figure.Figure at 0x8710208>"
      ]
     },
     "metadata": {},
     "output_type": "display_data"
    }
   ],
   "source": [
    "# 绘制饼图（生还乘客）\n",
    "\n",
    "print_pie(titanic_life(tt_Survived,'Sex'))"
   ]
  },
  {
   "cell_type": "code",
   "execution_count": 11,
   "metadata": {
    "collapsed": false
   },
   "outputs": [
    {
     "name": "stdout",
     "output_type": "stream",
     "text": [
      "Sex\n",
      "female    0.742038\n",
      "male      0.188908\n",
      "Name: Name, dtype: float64\n"
     ]
    },
    {
     "data": {
      "image/png": "[encoded data removed]",
      "text/plain": [
       "<matplotlib.figure.Figure at 0xbe51860>"
      ]
     },
     "metadata": {},
     "output_type": "display_data"
    }
   ],
   "source": [
    "# 方法1：计算性别生还率    \n",
    "def survival_rate(name):\n",
    "    # 按照name对全体乘客进行分组后，每个组的人数\n",
    "    all_passenger_count=titanic_life(tt,name)\n",
    "    # 按照name对生还乘客进行分组后，每个组的人数\n",
    "    survived_passenger_count=titanic_life(tt_Survived,name)\n",
    "    # 每个组的生还率\n",
    "    return survived_passenger_count/all_passenger_count\n",
    "print survival_rate('Sex')\n",
    "print_bar(survival_rate('Sex'))"
   ]
  },
  {
   "cell_type": "markdown",
   "metadata": {},
   "source": [
    "### 问题1 结论：\n",
    "1、女性乘客总数少于男性。\n",
    "2、女性乘客生还率明显高于男性。"
   ]
  },
  {
   "cell_type": "markdown",
   "metadata": {},
   "source": [
    "### 问题2：年龄因素是否对生还造成影响？"
   ]
  },
  {
   "cell_type": "code",
   "execution_count": 12,
   "metadata": {
    "collapsed": true
   },
   "outputs": [],
   "source": [
    "# 对缺失值进行处理\n",
    "tt_age_analysis = tt[['Survived','Sex','Age']].dropna()\n",
    "tt_Survived_age_analysis = tt_Survived[['Survived','Sex','Age']].dropna()"
   ]
  },
  {
   "cell_type": "code",
   "execution_count": 13,
   "metadata": {
    "collapsed": false
   },
   "outputs": [
    {
     "name": "stdout",
     "output_type": "stream",
     "text": [
      "全体乘客： Age\n",
      "(0, 10]      64\n",
      "(10, 20]    115\n",
      "(20, 30]    230\n",
      "(30, 40]    155\n",
      "(40, 50]     86\n",
      "(50, 60]     42\n",
      "(60, 70]     17\n",
      "Name: Survived, dtype: int64\n",
      "生还乘客： Age\n",
      "(0, 10]     38\n",
      "(10, 20]    44\n",
      "(20, 30]    84\n",
      "(30, 40]    69\n",
      "(40, 50]    33\n",
      "(50, 60]    17\n",
      "(60, 70]     4\n",
      "Name: Survived, dtype: int64\n"
     ]
    }
   ],
   "source": [
    "# 以10为间距对年龄进行分组统计\n",
    "def cut_age(data):\n",
    "    age_cut = np.arange(0,80,10)\n",
    "    ages_cut = pd.cut(data.Age,age_cut)\n",
    "    ages_cut_grouped = data.groupby(ages_cut)\n",
    "    return ages_cut_grouped\n",
    "\n",
    "print '全体乘客：',cut_age(tt_age_analysis).count()['Survived']\n",
    "print '生还乘客：',cut_age(tt_Survived_age_analysis).count()['Survived']"
   ]
  },
  {
   "cell_type": "code",
   "execution_count": 14,
   "metadata": {
    "collapsed": false
   },
   "outputs": [
    {
     "name": "stdout",
     "output_type": "stream",
     "text": [
      "全体乘客的年龄\n",
      "平均值:  29.6991176471\n",
      "标准差:  14.5163211508\n",
      "最小值:  0.42\n",
      "最大值:  80.0\n",
      "生还乘客的年龄\n",
      "平均值:  28.3436896552\n",
      "标准差:  14.9251522203\n",
      "最小值:  0.42\n",
      "最大值:  80.0\n"
     ]
    },
    {
     "data": {
      "image/png": "[encoded data removed]",
      "text/plain": [
       "<matplotlib.figure.Figure at 0xbf51e10>"
      ]
     },
     "metadata": {},
     "output_type": "display_data"
    }
   ],
   "source": [
    "# 打印基本信息并反馈\n",
    "print_describe(tt_age_analysis['Age'],'全体乘客的年龄')\n",
    "print_describe(tt_Survived_age_analysis['Age'],'生还乘客的年龄')"
   ]
  },
  {
   "cell_type": "code",
   "execution_count": 15,
   "metadata": {
    "collapsed": false,
    "scrolled": true
   },
   "outputs": [
    {
     "data": {
      "image/png": "[encoded data removed]",
      "text/plain": [
       "<matplotlib.figure.Figure at 0xbe3a780>"
      ]
     },
     "metadata": {},
     "output_type": "display_data"
    }
   ],
   "source": [
    "# 生存率计算方法2：计算不同年龄分组下的生存率\n",
    "def print_bar_age(data):\n",
    "    ages = np.arange(0,80,10)\n",
    "    tt_age_cut = pd.cut(data.Age,ages)\n",
    "    tt_age_cut_grouped = data.groupby(tt_age_cut)\n",
    "    tt_age_cut_analysis = (tt_age_cut_grouped.sum()/tt_age_cut_grouped.count())['Survived']\n",
    "    tt_age_cut_analysis.plot(kind='bar')\n",
    "\n",
    "print_bar_age(tt_age_analysis)"
   ]
  },
  {
   "cell_type": "markdown",
   "metadata": {},
   "source": [
    "### 问题2 结论：\n",
    "10岁以下乘客生还率最高。"
   ]
  },
  {
   "cell_type": "markdown",
   "metadata": {},
   "source": [
    "### 问题3：年龄、性别共同对生还结果的影响？"
   ]
  },
  {
   "cell_type": "code",
   "execution_count": 16,
   "metadata": {
    "collapsed": false,
    "scrolled": true
   },
   "outputs": [
    {
     "data": {
      "image/png": "[encoded data removed]",
      "text/plain": [
       "<matplotlib.figure.Figure at 0xc2e4710>"
      ]
     },
     "metadata": {},
     "output_type": "display_data"
    }
   ],
   "source": [
    "# 女性如下\n",
    "tt_age_analysis_female=tt_age_analysis[tt_age_analysis.Sex=='female']\n",
    "print_bar_age(tt_age_analysis_female)"
   ]
  },
  {
   "cell_type": "code",
   "execution_count": 17,
   "metadata": {
    "collapsed": false
   },
   "outputs": [
    {
     "data": {
      "image/png": "[encoded data removed]",
      "text/plain": [
       "<matplotlib.figure.Figure at 0xd1de358>"
      ]
     },
     "metadata": {},
     "output_type": "display_data"
    }
   ],
   "source": [
    "# 男性如下\n",
    "tt_age_analysis_male=tt_age_analysis[tt_age_analysis.Sex=='male']\n",
    "print_bar_age(tt_age_analysis_male)"
   ]
  },
  {
   "cell_type": "markdown",
   "metadata": {},
   "source": [
    "### 问题3 结论：\n",
    "1、女性：32-36岁，48岁及以上存在着高的乘客生还率。\n",
    "2、男性：12岁以下存在着较高的乘客生还率；各年龄段上乘客生还率均明显低于女性。"
   ]
  },
  {
   "cell_type": "markdown",
   "metadata": {},
   "source": [
    "### 问题4：仓位因素是否对生还造成影响？"
   ]
  },
  {
   "cell_type": "code",
   "execution_count": 18,
   "metadata": {
    "collapsed": false
   },
   "outputs": [
    {
     "name": "stdout",
     "output_type": "stream",
     "text": [
      "Pclass\n",
      "1    216\n",
      "2    184\n",
      "3    491\n",
      "Name: Name, dtype: int64\n",
      "Pclass\n",
      "1    136\n",
      "2     87\n",
      "3    119\n",
      "Name: Name, dtype: int64\n"
     ]
    }
   ],
   "source": [
    "# 计数\n",
    "\n",
    "print titanic_life(tt,'Pclass')\n",
    "print titanic_life(tt_Survived,'Pclass')"
   ]
  },
  {
   "cell_type": "code",
   "execution_count": 19,
   "metadata": {
    "collapsed": false
   },
   "outputs": [
    {
     "data": {
      "image/png": "[encoded data removed]",
      "text/plain": [
       "<matplotlib.figure.Figure at 0xd3a2320>"
      ]
     },
     "metadata": {},
     "output_type": "display_data"
    }
   ],
   "source": [
    "# 绘制条形图（仓位乘客分布图）\n",
    "\n",
    "def print_bar2(data):\n",
    "    plt.xticks((0,0.2,0.4),(u'1st',u'2nd',u'3rd'))\n",
    "    plt.bar(left=(0,0.2,0.4),height=data,width=0.12,align=\"center\")\n",
    "\n",
    "print_bar2(titanic_life(tt,'Pclass'))\n",
    "print_bar2(titanic_life(tt_Survived,'Pclass'))"
   ]
  },
  {
   "cell_type": "code",
   "execution_count": 20,
   "metadata": {
    "collapsed": false
   },
   "outputs": [
    {
     "data": {
      "image/png": "[encoded data removed]",
      "text/plain": [
       "<matplotlib.figure.Figure at 0xd2fbb00>"
      ]
     },
     "metadata": {},
     "output_type": "display_data"
    }
   ],
   "source": [
    "# 绘制饼图（全部仓位）\n",
    "print_pie(titanic_life(tt,'Pclass'))"
   ]
  },
  {
   "cell_type": "code",
   "execution_count": 21,
   "metadata": {
    "collapsed": false
   },
   "outputs": [
    {
     "data": {
      "image/png": "[encoded data removed]",
      "text/plain": [
       "<matplotlib.figure.Figure at 0xbaa2d68>"
      ]
     },
     "metadata": {},
     "output_type": "display_data"
    }
   ],
   "source": [
    "# 绘制饼图（生还）\n",
    "print_pie(titanic_life(tt_Survived,'Pclass'))"
   ]
  },
  {
   "cell_type": "code",
   "execution_count": 22,
   "metadata": {
    "collapsed": false
   },
   "outputs": [
    {
     "name": "stdout",
     "output_type": "stream",
     "text": [
      "Pclass\n",
      "1    0.629630\n",
      "2    0.472826\n",
      "3    0.242363\n",
      "Name: Name, dtype: float64\n"
     ]
    },
    {
     "data": {
      "image/png": "[encoded data removed]",
      "text/plain": [
       "<matplotlib.figure.Figure at 0xd3060f0>"
      ]
     },
     "metadata": {},
     "output_type": "display_data"
    }
   ],
   "source": [
    "# 计算仓位生还率    \n",
    "\n",
    "print survival_rate('Pclass')\n",
    "print_bar2(survival_rate('Pclass'))"
   ]
  },
  {
   "cell_type": "markdown",
   "metadata": {},
   "source": [
    "### 问题4 结论:\n",
    "1、三等舱乘客最多。\n",
    "2、一等舱乘客生还率最高；舱位环境越恶劣，生还率越低。"
   ]
  },
  {
   "cell_type": "markdown",
   "metadata": {},
   "source": [
    "### 问题5：舱位、性别共同对生还结果的影响？"
   ]
  },
  {
   "cell_type": "code",
   "execution_count": 31,
   "metadata": {
    "collapsed": false
   },
   "outputs": [
    {
     "name": "stdout",
     "output_type": "stream",
     "text": [
      "Sex     Pclass\n",
      "female  1          94\n",
      "        2          76\n",
      "        3         144\n",
      "male    1         122\n",
      "        2         108\n",
      "        3         347\n",
      "Name: Survived, dtype: int64\n"
     ]
    }
   ],
   "source": [
    "# 按性别计算各舱位人数\n",
    "print tt.groupby(['Sex','Pclass']).count()['Survived']"
   ]
  },
  {
   "cell_type": "code",
   "execution_count": 30,
   "metadata": {
    "collapsed": false
   },
   "outputs": [
    {
     "name": "stdout",
     "output_type": "stream",
     "text": [
      "Sex     Pclass\n",
      "female  1         91\n",
      "        2         70\n",
      "        3         72\n",
      "male    1         45\n",
      "        2         17\n",
      "        3         47\n",
      "Name: Survived, dtype: int64\n"
     ]
    }
   ],
   "source": [
    "# 按性别计算各舱位生还人数\n",
    "print tt_Survived.groupby(['Sex','Pclass']).count()['Survived']"
   ]
  },
  {
   "cell_type": "code",
   "execution_count": 24,
   "metadata": {
    "collapsed": false
   },
   "outputs": [
    {
     "name": "stdout",
     "output_type": "stream",
     "text": [
      "Sex     Pclass\n",
      "female  1         0.968085\n",
      "        2         0.921053\n",
      "        3         0.500000\n",
      "male    1         0.368852\n",
      "        2         0.157407\n",
      "        3         0.135447\n",
      "Name: Name, dtype: float64\n"
     ]
    },
    {
     "data": {
      "image/png": "[encoded data removed]",
      "text/plain": [
       "<matplotlib.figure.Figure at 0xdd2e470>"
      ]
     },
     "metadata": {},
     "output_type": "display_data"
    }
   ],
   "source": [
    "# 计算仓位生还率 \n",
    "print survival_rate(['Sex','Pclass'])\n",
    "\n",
    "def print_bar3(data):\n",
    "    plt.xticks((0,0.2,0.4,0.6,0.8,1.0),(u'female 1st',u'female 2nd',u'female 3rd',u'male 1st',u'male 2nd',u'male 3rd'))\n",
    "    plt.bar(left=(0,0.2,0.4,0.6,0.8,1.0),height=data,width=0.12,align=\"center\")\n",
    "    \n",
    "print_bar3(survival_rate(['Sex','Pclass']))"
   ]
  },
  {
   "cell_type": "markdown",
   "metadata": {},
   "source": [
    "###  问题5 结论：\n",
    "1、女性生还率明显高于男性。\n",
    "2、舱位越好，生还率越高。\n",
    "3、年龄相比于舱位对生还率的影响更大。"
   ]
  },
  {
   "cell_type": "markdown",
   "metadata": {},
   "source": [
    "## 4. 总结与反思"
   ]
  },
  {
   "cell_type": "markdown",
   "metadata": {
    "collapsed": true
   },
   "source": [
    "### 总结：\n",
    "\n",
    "1、项目总体研究了性别、年龄、舱位对乘客生还率结果的影响，研究发现三因素性别因素影响最大。\n",
    "\n",
    "2、各因素中：女性比男性生还率高，舱位环境越好生还率越高，年龄段越小或越大生还率越高。"
   ]
  },
  {
   "cell_type": "markdown",
   "metadata": {},
   "source": [
    "### 本研究的局限：\n",
    "\n",
    "1、部分数据存在缺失值。\n",
    "\n",
    "2、数据间仅研究了相关性的存在，并未通过实验研究因果关系。\n",
    "\n",
    "3、还有一些因素可能会影响生还率，比如乘客的职业、身体素质、求生意识等，但是数据中并没有给出。"
   ]
  }
 ],
 "metadata": {
  "kernelspec": {
   "display_name": "Python 2",
   "language": "python",
   "name": "python2"
  },
  "language_info": {
   "codemirror_mode": {
    "name": "ipython",
    "version": 2
   },
   "file_extension": ".py",
   "mimetype": "text/x-python",
   "name": "python",
   "nbconvert_exporter": "python",
   "pygments_lexer": "ipython2",
   "version": "2.7.13"
  }
 },
 "nbformat": 4,
 "nbformat_minor": 2
}
